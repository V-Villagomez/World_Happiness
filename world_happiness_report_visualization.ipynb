{
 "cells": [
  {
   "cell_type": "code",
   "execution_count": 256,
   "id": "80bc7040-3be7-4a39-9136-31ead0c9d8ae",
   "metadata": {},
   "outputs": [],
   "source": [
    "%matplotlib inline"
   ]
  },
  {
   "cell_type": "code",
   "execution_count": 257,
   "id": "c97372c5-da21-45de-abdf-0621fdef8600",
   "metadata": {},
   "outputs": [],
   "source": [
    "# Import Dependencies\n",
    "import matplotlib.pyplot as plt\n",
    "import pandas as pd\n",
    "import numpy as np\n",
    "from scipy import stats\n",
    "import seaborn as sns"
   ]
  },
  {
   "cell_type": "code",
   "execution_count": 258,
   "id": "be693828-ab07-4854-acc1-0e0ad6b1301f",
   "metadata": {},
   "outputs": [
    {
     "data": {
      "text/html": [
       "<div>\n",
       "<style scoped>\n",
       "    .dataframe tbody tr th:only-of-type {\n",
       "        vertical-align: middle;\n",
       "    }\n",
       "\n",
       "    .dataframe tbody tr th {\n",
       "        vertical-align: top;\n",
       "    }\n",
       "\n",
       "    .dataframe thead th {\n",
       "        text-align: right;\n",
       "    }\n",
       "</style>\n",
       "<table border=\"1\" class=\"dataframe\">\n",
       "  <thead>\n",
       "    <tr style=\"text-align: right;\">\n",
       "      <th></th>\n",
       "      <th>Year</th>\n",
       "      <th>Country</th>\n",
       "      <th>Region</th>\n",
       "      <th>Happiness Rank</th>\n",
       "      <th>Happiness Score</th>\n",
       "      <th>Economy (GDP per Capita)</th>\n",
       "      <th>Family</th>\n",
       "      <th>Health (Life Expectancy)</th>\n",
       "      <th>Freedom</th>\n",
       "      <th>Trust (Government Corruption)</th>\n",
       "      <th>Generosity</th>\n",
       "      <th>Dystopia Residual</th>\n",
       "      <th>Avg Happiness Rank</th>\n",
       "    </tr>\n",
       "  </thead>\n",
       "  <tbody>\n",
       "    <tr>\n",
       "      <th>0</th>\n",
       "      <td>2015</td>\n",
       "      <td>Switzerland</td>\n",
       "      <td>Western Europe</td>\n",
       "      <td>1</td>\n",
       "      <td>7.587</td>\n",
       "      <td>1.39651</td>\n",
       "      <td>1.349510</td>\n",
       "      <td>0.941430</td>\n",
       "      <td>0.665570</td>\n",
       "      <td>0.419780</td>\n",
       "      <td>0.296780</td>\n",
       "      <td>2.517380</td>\n",
       "      <td>3.6</td>\n",
       "    </tr>\n",
       "    <tr>\n",
       "      <th>1</th>\n",
       "      <td>2016</td>\n",
       "      <td>Switzerland</td>\n",
       "      <td>Western Europe</td>\n",
       "      <td>2</td>\n",
       "      <td>7.509</td>\n",
       "      <td>1.52733</td>\n",
       "      <td>1.145240</td>\n",
       "      <td>0.863030</td>\n",
       "      <td>0.585570</td>\n",
       "      <td>0.412030</td>\n",
       "      <td>0.280830</td>\n",
       "      <td>2.694630</td>\n",
       "      <td>3.6</td>\n",
       "    </tr>\n",
       "    <tr>\n",
       "      <th>2</th>\n",
       "      <td>2017</td>\n",
       "      <td>Switzerland</td>\n",
       "      <td>Western Europe</td>\n",
       "      <td>4</td>\n",
       "      <td>7.494</td>\n",
       "      <td>1.56498</td>\n",
       "      <td>1.516912</td>\n",
       "      <td>0.858131</td>\n",
       "      <td>0.620071</td>\n",
       "      <td>0.367007</td>\n",
       "      <td>0.290549</td>\n",
       "      <td>2.276716</td>\n",
       "      <td>3.6</td>\n",
       "    </tr>\n",
       "    <tr>\n",
       "      <th>3</th>\n",
       "      <td>2018</td>\n",
       "      <td>Switzerland</td>\n",
       "      <td>Western Europe</td>\n",
       "      <td>5</td>\n",
       "      <td>7.487</td>\n",
       "      <td>1.42000</td>\n",
       "      <td>1.549000</td>\n",
       "      <td>0.927000</td>\n",
       "      <td>0.660000</td>\n",
       "      <td>0.357000</td>\n",
       "      <td>0.256000</td>\n",
       "      <td>2.276716</td>\n",
       "      <td>3.6</td>\n",
       "    </tr>\n",
       "    <tr>\n",
       "      <th>4</th>\n",
       "      <td>2019</td>\n",
       "      <td>Switzerland</td>\n",
       "      <td>Western Europe</td>\n",
       "      <td>6</td>\n",
       "      <td>7.480</td>\n",
       "      <td>1.45200</td>\n",
       "      <td>1.526000</td>\n",
       "      <td>1.052000</td>\n",
       "      <td>0.572000</td>\n",
       "      <td>0.343000</td>\n",
       "      <td>0.263000</td>\n",
       "      <td>2.276716</td>\n",
       "      <td>3.6</td>\n",
       "    </tr>\n",
       "    <tr>\n",
       "      <th>...</th>\n",
       "      <td>...</td>\n",
       "      <td>...</td>\n",
       "      <td>...</td>\n",
       "      <td>...</td>\n",
       "      <td>...</td>\n",
       "      <td>...</td>\n",
       "      <td>...</td>\n",
       "      <td>...</td>\n",
       "      <td>...</td>\n",
       "      <td>...</td>\n",
       "      <td>...</td>\n",
       "      <td>...</td>\n",
       "      <td>...</td>\n",
       "    </tr>\n",
       "    <tr>\n",
       "      <th>777</th>\n",
       "      <td>2019</td>\n",
       "      <td>Trinidad &amp; Tobago</td>\n",
       "      <td>Sub-Saharan Africa</td>\n",
       "      <td>39</td>\n",
       "      <td>6.192</td>\n",
       "      <td>1.23100</td>\n",
       "      <td>1.477000</td>\n",
       "      <td>0.713000</td>\n",
       "      <td>0.489000</td>\n",
       "      <td>0.016000</td>\n",
       "      <td>0.185000</td>\n",
       "      <td>0.554633</td>\n",
       "      <td>15.4</td>\n",
       "    </tr>\n",
       "    <tr>\n",
       "      <th>778</th>\n",
       "      <td>2018</td>\n",
       "      <td>Northern Cyprus</td>\n",
       "      <td>Sub-Saharan Africa</td>\n",
       "      <td>58</td>\n",
       "      <td>5.835</td>\n",
       "      <td>1.22900</td>\n",
       "      <td>1.211000</td>\n",
       "      <td>0.909000</td>\n",
       "      <td>0.495000</td>\n",
       "      <td>0.154000</td>\n",
       "      <td>0.179000</td>\n",
       "      <td>0.554633</td>\n",
       "      <td>24.4</td>\n",
       "    </tr>\n",
       "    <tr>\n",
       "      <th>779</th>\n",
       "      <td>2019</td>\n",
       "      <td>Northern Cyprus</td>\n",
       "      <td>Sub-Saharan Africa</td>\n",
       "      <td>64</td>\n",
       "      <td>5.718</td>\n",
       "      <td>1.26300</td>\n",
       "      <td>1.252000</td>\n",
       "      <td>1.042000</td>\n",
       "      <td>0.417000</td>\n",
       "      <td>0.162000</td>\n",
       "      <td>0.191000</td>\n",
       "      <td>0.554633</td>\n",
       "      <td>24.4</td>\n",
       "    </tr>\n",
       "    <tr>\n",
       "      <th>780</th>\n",
       "      <td>2019</td>\n",
       "      <td>North Macedonia</td>\n",
       "      <td>Sub-Saharan Africa</td>\n",
       "      <td>84</td>\n",
       "      <td>5.274</td>\n",
       "      <td>0.98300</td>\n",
       "      <td>1.294000</td>\n",
       "      <td>0.838000</td>\n",
       "      <td>0.345000</td>\n",
       "      <td>0.034000</td>\n",
       "      <td>0.185000</td>\n",
       "      <td>0.554633</td>\n",
       "      <td>16.8</td>\n",
       "    </tr>\n",
       "    <tr>\n",
       "      <th>781</th>\n",
       "      <td>2019</td>\n",
       "      <td>Gambia</td>\n",
       "      <td>Sub-Saharan Africa</td>\n",
       "      <td>120</td>\n",
       "      <td>4.516</td>\n",
       "      <td>0.30800</td>\n",
       "      <td>0.939000</td>\n",
       "      <td>0.428000</td>\n",
       "      <td>0.382000</td>\n",
       "      <td>0.167000</td>\n",
       "      <td>0.269000</td>\n",
       "      <td>0.554633</td>\n",
       "      <td>24.0</td>\n",
       "    </tr>\n",
       "  </tbody>\n",
       "</table>\n",
       "<p>782 rows × 13 columns</p>\n",
       "</div>"
      ],
      "text/plain": [
       "     Year            Country              Region  Happiness Rank  \\\n",
       "0    2015        Switzerland      Western Europe               1   \n",
       "1    2016        Switzerland      Western Europe               2   \n",
       "2    2017        Switzerland      Western Europe               4   \n",
       "3    2018        Switzerland      Western Europe               5   \n",
       "4    2019        Switzerland      Western Europe               6   \n",
       "..    ...                ...                 ...             ...   \n",
       "777  2019  Trinidad & Tobago  Sub-Saharan Africa              39   \n",
       "778  2018    Northern Cyprus  Sub-Saharan Africa              58   \n",
       "779  2019    Northern Cyprus  Sub-Saharan Africa              64   \n",
       "780  2019    North Macedonia  Sub-Saharan Africa              84   \n",
       "781  2019             Gambia  Sub-Saharan Africa             120   \n",
       "\n",
       "     Happiness Score  Economy (GDP per Capita)    Family  \\\n",
       "0              7.587                   1.39651  1.349510   \n",
       "1              7.509                   1.52733  1.145240   \n",
       "2              7.494                   1.56498  1.516912   \n",
       "3              7.487                   1.42000  1.549000   \n",
       "4              7.480                   1.45200  1.526000   \n",
       "..               ...                       ...       ...   \n",
       "777            6.192                   1.23100  1.477000   \n",
       "778            5.835                   1.22900  1.211000   \n",
       "779            5.718                   1.26300  1.252000   \n",
       "780            5.274                   0.98300  1.294000   \n",
       "781            4.516                   0.30800  0.939000   \n",
       "\n",
       "     Health (Life Expectancy)   Freedom  Trust (Government Corruption)  \\\n",
       "0                    0.941430  0.665570                       0.419780   \n",
       "1                    0.863030  0.585570                       0.412030   \n",
       "2                    0.858131  0.620071                       0.367007   \n",
       "3                    0.927000  0.660000                       0.357000   \n",
       "4                    1.052000  0.572000                       0.343000   \n",
       "..                        ...       ...                            ...   \n",
       "777                  0.713000  0.489000                       0.016000   \n",
       "778                  0.909000  0.495000                       0.154000   \n",
       "779                  1.042000  0.417000                       0.162000   \n",
       "780                  0.838000  0.345000                       0.034000   \n",
       "781                  0.428000  0.382000                       0.167000   \n",
       "\n",
       "     Generosity  Dystopia Residual  Avg Happiness Rank  \n",
       "0      0.296780           2.517380                 3.6  \n",
       "1      0.280830           2.694630                 3.6  \n",
       "2      0.290549           2.276716                 3.6  \n",
       "3      0.256000           2.276716                 3.6  \n",
       "4      0.263000           2.276716                 3.6  \n",
       "..          ...                ...                 ...  \n",
       "777    0.185000           0.554633                15.4  \n",
       "778    0.179000           0.554633                24.4  \n",
       "779    0.191000           0.554633                24.4  \n",
       "780    0.185000           0.554633                16.8  \n",
       "781    0.269000           0.554633                24.0  \n",
       "\n",
       "[782 rows x 13 columns]"
      ]
     },
     "execution_count": 258,
     "metadata": {},
     "output_type": "execute_result"
    }
   ],
   "source": [
    "# Import our data into pandas from CSV\n",
    "happy_reports = \"Resources/clean_data/data_country_all.csv\"\n",
    "happy_reports_df = pd.read_csv(happy_reports)\n",
    "\n",
    "happy_reports_df"
   ]
  },
  {
   "cell_type": "code",
   "execution_count": 259,
   "id": "a56bee68-a8cd-4cc4-8be9-66e1e7f2f876",
   "metadata": {},
   "outputs": [
    {
     "data": {
      "text/plain": [
       "Region\n",
       "Australia and New Zealand          7.294600\n",
       "Central and Eastern Europe         5.428875\n",
       "Eastern Asia                       5.630464\n",
       "Latin America and Caribbean        6.020725\n",
       "Middle East and Northern Africa    5.337208\n",
       "North America                      7.174700\n",
       "Southeastern Asia                  5.335227\n",
       "Southern Asia                      4.580657\n",
       "Sub-Saharan Africa                 4.248153\n",
       "Western Europe                     6.759311\n",
       "Name: Happiness Score, dtype: float64"
      ]
     },
     "execution_count": 259,
     "metadata": {},
     "output_type": "execute_result"
    }
   ],
   "source": [
    "# Grouby and determine the mean for Region and Happiness Score\n",
    "region_happiness = happy_reports_df.groupby('Region')['Happiness Score'].mean()\n",
    "region_happiness"
   ]
  },
  {
   "cell_type": "code",
   "execution_count": 260,
   "id": "19254a5d-37ae-464b-91d6-3e893cf0f3e1",
   "metadata": {},
   "outputs": [
    {
     "data": {
      "image/png": "[encoded data removed]",
      "text/plain": [
       "<Figure size 432x288 with 1 Axes>"
      ]
     },
     "metadata": {
      "needs_background": "light"
     },
     "output_type": "display_data"
    }
   ],
   "source": [
    "# Create a bar chart based off of the groupby above\n",
    "create_chart = region_happiness.plot(kind='bar')\n",
    "\n",
    "# Set the xlabel and ylabel using class methods\n",
    "\n",
    "create_chart.set_xlabel(\"Region\")\n",
    "create_chart.set_ylabel(\"Happiness Score\")\n",
    "\n",
    "plt.tight_layout()\n",
    "plt.show()"
   ]
  },
  {
   "cell_type": "code",
   "execution_count": 261,
   "id": "946bf632-13dd-4748-93c2-45dcf752bfb3",
   "metadata": {},
   "outputs": [
    {
     "data": {
      "text/plain": [
       "Region\n",
       "Australia and New Zealand          1.356197\n",
       "Central and Eastern Europe         1.018734\n",
       "Eastern Asia                       1.219484\n",
       "Latin America and Caribbean        0.936425\n",
       "Middle East and Northern Africa    1.102633\n",
       "North America                      1.422037\n",
       "Southeastern Asia                  0.893340\n",
       "Southern Asia                      0.638813\n",
       "Sub-Saharan Africa                 0.476584\n",
       "Western Europe                     1.372702\n",
       "Name: Economy (GDP per Capita), dtype: float64"
      ]
     },
     "execution_count": 261,
     "metadata": {},
     "output_type": "execute_result"
    }
   ],
   "source": [
    "# Grouby and determine the mean for Region and Economy\n",
    "region_happiness_GDP = happy_reports_df.groupby('Region')['Economy (GDP per Capita)'].mean()\n",
    "region_happiness_GDP"
   ]
  },
  {
   "cell_type": "code",
   "execution_count": 262,
   "id": "4dfd12bb-6c60-4bfe-a1bd-92710a2ee8c0",
   "metadata": {},
   "outputs": [
    {
     "data": {
      "image/png": "[encoded data removed]",
      "text/plain": [
       "<Figure size 432x288 with 1 Axes>"
      ]
     },
     "metadata": {
      "needs_background": "light"
     },
     "output_type": "display_data"
    }
   ],
   "source": [
    "# Create a bar chart based off of the region and economy groupby\n",
    "create_chart_GDP = region_happiness_GDP.plot(kind='bar')\n",
    "\n",
    "# Set the xlabel and ylabel using class methods\n",
    "create_chart_GDP.set_xlabel(\"Region\")\n",
    "create_chart_GDP.set_ylabel(\"Economy (GDP per Capita)\")\n",
    "\n",
    "plt.tight_layout()\n",
    "plt.show()"
   ]
  },
  {
   "cell_type": "code",
   "execution_count": 263,
   "id": "418d9b44-25d6-4592-bdf9-9a844b15718e",
   "metadata": {},
   "outputs": [],
   "source": [
    "# Ignore this cell, scatter plot displays incorrectly\n",
    "# plt.scatter(\n",
    "#     x=happy_reports_df.loc[:,\"Region\"],\n",
    "#     y=happy_reports_df.loc[:,\"Economy (GDP per Capita)\"]\n",
    "# )\n",
    "# plt.xlabel('Region')\n",
    "# plt.ylabel('Economy (GDP per Capita)')\n",
    "# plt.show()"
   ]
  },
  {
   "cell_type": "code",
   "execution_count": 264,
   "id": "13269604-1d39-4b9b-90e1-d22b3356dae7",
   "metadata": {},
   "outputs": [
    {
     "data": {
      "text/plain": [
       "Region\n",
       "Australia and New Zealand          1.424368\n",
       "Central and Eastern Europe         1.171523\n",
       "Eastern Asia                       1.190343\n",
       "Latin America and Caribbean        1.181575\n",
       "Middle East and Northern Africa    0.993466\n",
       "North America                      1.357991\n",
       "Southeastern Asia                  1.093673\n",
       "Southern Asia                      0.803835\n",
       "Sub-Saharan Africa                 0.862702\n",
       "Western Europe                     1.338851\n",
       "Name: Family, dtype: float64"
      ]
     },
     "execution_count": 264,
     "metadata": {},
     "output_type": "execute_result"
    }
   ],
   "source": [
    "# Grouby and determine the mean for Region and Family\n",
    "region_happiness_Fam = happy_reports_df.groupby('Region')['Family'].mean()\n",
    "region_happiness_Fam"
   ]
  },
  {
   "cell_type": "code",
   "execution_count": 265,
   "id": "00a81ede-a5ff-481a-a69c-6b544d347eda",
   "metadata": {},
   "outputs": [
    {
     "data": {
      "image/png": "[encoded data removed]",
      "text/plain": [
       "<Figure size 432x288 with 1 Axes>"
      ]
     },
     "metadata": {
      "needs_background": "light"
     },
     "output_type": "display_data"
    }
   ],
   "source": [
    "# Create a bar chart based off of the region and family groupby \n",
    "create_chart_Fam = region_happiness_Fam.plot(kind='bar')\n",
    "\n",
    "# Set the xlabel and ylabel using class methods\n",
    "create_chart_Fam.set_xlabel(\"Region\")\n",
    "create_chart_Fam.set_ylabel(\"Family\")\n",
    "\n",
    "plt.tight_layout()\n",
    "plt.show()"
   ]
  },
  {
   "cell_type": "code",
   "execution_count": 266,
   "id": "1815e314-7c80-403c-aa43-a3d541077d80",
   "metadata": {},
   "outputs": [
    {
     "data": {
      "text/plain": [
       "Region\n",
       "Australia and New Zealand          0.903074\n",
       "Central and Eastern Europe         0.695550\n",
       "Eastern Asia                       0.862189\n",
       "Latin America and Caribbean        0.676763\n",
       "Middle East and Northern Africa    0.665565\n",
       "North America                      0.861086\n",
       "Southeastern Asia                  0.635452\n",
       "Southern Asia                      0.513089\n",
       "Sub-Saharan Africa                 0.302677\n",
       "Western Europe                     0.892661\n",
       "Name: Health (Life Expectancy), dtype: float64"
      ]
     },
     "execution_count": 266,
     "metadata": {},
     "output_type": "execute_result"
    }
   ],
   "source": [
    "# Grouby and determine the mean for Region and Health\n",
    "region_happiness_health = happy_reports_df.groupby('Region')['Health (Life Expectancy)'].mean()\n",
    "region_happiness_health"
   ]
  },
  {
   "cell_type": "code",
   "execution_count": 267,
   "id": "ce44f5ac-8a72-4027-9c2f-fef6c4570cce",
   "metadata": {},
   "outputs": [
    {
     "data": {
      "image/png": "[encoded data removed]",
      "text/plain": [
       "<Figure size 432x288 with 1 Axes>"
      ]
     },
     "metadata": {
      "needs_background": "light"
     },
     "output_type": "display_data"
    }
   ],
   "source": [
    "# Create a bar chart based off of the region and health groupby \n",
    "create_chart_health = region_happiness_health.plot(kind='bar')\n",
    "\n",
    "# Set the xlabel and ylabel using class methods\n",
    "create_chart_health.set_xlabel(\"Region\")\n",
    "create_chart_health.set_ylabel(\"Health (Life Expectancy)\")\n",
    "\n",
    "plt.tight_layout()\n",
    "plt.show()"
   ]
  },
  {
   "cell_type": "code",
   "execution_count": 268,
   "id": "397e0763-8b3f-4706-8988-cf5212e241d6",
   "metadata": {},
   "outputs": [
    {
     "data": {
      "text/plain": [
       "Region\n",
       "Australia and New Zealand          0.611413\n",
       "Central and Eastern Europe         0.352283\n",
       "Eastern Asia                       0.417611\n",
       "Latin America and Caribbean        0.463089\n",
       "Middle East and Northern Africa    0.348679\n",
       "North America                      0.558918\n",
       "Southeastern Asia                  0.543723\n",
       "Southern Asia                      0.392867\n",
       "Sub-Saharan Africa                 0.357076\n",
       "Western Europe                     0.516868\n",
       "Name: Freedom, dtype: float64"
      ]
     },
     "execution_count": 268,
     "metadata": {},
     "output_type": "execute_result"
    }
   ],
   "source": [
    "# Grouby and determine the mean for Region and Freedom\n",
    "region_happiness_freedom = happy_reports_df.groupby('Region')['Freedom'].mean()\n",
    "region_happiness_freedom"
   ]
  },
  {
   "cell_type": "code",
   "execution_count": 269,
   "id": "099f0644-4668-4fe2-bebe-e8c12e258763",
   "metadata": {},
   "outputs": [
    {
     "data": {
      "image/png": "[encoded data removed]",
      "text/plain": [
       "<Figure size 432x288 with 1 Axes>"
      ]
     },
     "metadata": {
      "needs_background": "light"
     },
     "output_type": "display_data"
    }
   ],
   "source": [
    "# Create a bar chart based off of the region and freedom groupby \n",
    "create_chart_freedom = region_happiness_freedom.plot(kind='bar')\n",
    "\n",
    "# Set the xlabel and ylabel using class methods\n",
    "create_chart_freedom.set_xlabel(\"Region\")\n",
    "create_chart_freedom.set_ylabel(\"Freedom\")\n",
    "\n",
    "plt.tight_layout()\n",
    "plt.show()"
   ]
  },
  {
   "cell_type": "code",
   "execution_count": 270,
   "id": "8af2d702-4b8c-4ed1-b7ef-377fb264e85c",
   "metadata": {},
   "outputs": [
    {
     "data": {
      "text/plain": [
       "Region\n",
       "Australia and New Zealand          0.357294\n",
       "Central and Eastern Europe         0.075969\n",
       "Eastern Asia                       0.113642\n",
       "Latin America and Caribbean        0.093807\n",
       "Middle East and Northern Africa    0.146543\n",
       "North America                      0.223345\n",
       "Southeastern Asia                  0.136140\n",
       "Southern Asia                      0.100357\n",
       "Sub-Saharan Africa                 0.105989\n",
       "Western Europe                     0.223788\n",
       "Name: Trust (Government Corruption), dtype: float64"
      ]
     },
     "execution_count": 270,
     "metadata": {},
     "output_type": "execute_result"
    }
   ],
   "source": [
    "# Grouby and determine the mean for Region and Trust\n",
    "region_happiness_trust = happy_reports_df.groupby('Region')['Trust (Government Corruption)'].mean()\n",
    "region_happiness_trust"
   ]
  },
  {
   "cell_type": "code",
   "execution_count": 271,
   "id": "3ee6854e-e257-44e0-8ff6-a157b75bf222",
   "metadata": {},
   "outputs": [
    {
     "data": {
      "image/png": "[encoded data removed]",
      "text/plain": [
       "<Figure size 432x288 with 1 Axes>"
      ]
     },
     "metadata": {
      "needs_background": "light"
     },
     "output_type": "display_data"
    }
   ],
   "source": [
    "# Create a bar chart based off of the region and trust groupby \n",
    "create_chart_trust = region_happiness_trust.plot(kind='bar')\n",
    "\n",
    "# Set the xlabel and ylabel using class methods\n",
    "create_chart_trust.set_xlabel(\"Region\")\n",
    "create_chart_trust.set_ylabel(\"Trust (Government Corruption)\")\n",
    "\n",
    "plt.tight_layout()\n",
    "plt.show()"
   ]
  },
  {
   "cell_type": "code",
   "execution_count": 272,
   "id": "31121278-b973-47e6-ad85-c222f9cb64d8",
   "metadata": {},
   "outputs": [
    {
     "data": {
      "text/plain": [
       "Region\n",
       "Australia and New Zealand          0.424441\n",
       "Central and Eastern Europe         0.156806\n",
       "Eastern Asia                       0.191472\n",
       "Latin America and Caribbean        0.185513\n",
       "Middle East and Northern Africa    0.178271\n",
       "North America                      0.372339\n",
       "Southeastern Asia                  0.384195\n",
       "Southern Asia                      0.300888\n",
       "Sub-Saharan Africa                 0.208039\n",
       "Western Europe                     0.271988\n",
       "Name: Generosity, dtype: float64"
      ]
     },
     "execution_count": 272,
     "metadata": {},
     "output_type": "execute_result"
    }
   ],
   "source": [
    "# Grouby and determine the mean for Region and Generosity\n",
    "region_happiness_generosity = happy_reports_df.groupby('Region')['Generosity'].mean()\n",
    "region_happiness_generosity"
   ]
  },
  {
   "cell_type": "code",
   "execution_count": 273,
   "id": "5371e4a1-6f72-465b-9c64-6f58fc1be90d",
   "metadata": {},
   "outputs": [
    {
     "data": {
      "image/png": "[encoded data removed]",
      "text/plain": [
       "<Figure size 432x288 with 1 Axes>"
      ]
     },
     "metadata": {
      "needs_background": "light"
     },
     "output_type": "display_data"
    }
   ],
   "source": [
    "# Create a bar chart based off of the region and generosity groupby \n",
    "create_chart_generosity = region_happiness_generosity.plot(kind='bar')\n",
    "\n",
    "# Set the xlabel and ylabel using class methods\n",
    "create_chart_health.set_xlabel(\"Region\")\n",
    "create_chart_health.set_ylabel(\"Generosity\")\n",
    "\n",
    "plt.tight_layout()\n",
    "plt.show()"
   ]
  },
  {
   "cell_type": "code",
   "execution_count": 274,
   "id": "b7e64b94-f28d-4942-9681-247d650ec4e9",
   "metadata": {},
   "outputs": [
    {
     "data": {
      "text/html": [
       "<div>\n",
       "<style scoped>\n",
       "    .dataframe tbody tr th:only-of-type {\n",
       "        vertical-align: middle;\n",
       "    }\n",
       "\n",
       "    .dataframe tbody tr th {\n",
       "        vertical-align: top;\n",
       "    }\n",
       "\n",
       "    .dataframe thead th {\n",
       "        text-align: right;\n",
       "    }\n",
       "</style>\n",
       "<table border=\"1\" class=\"dataframe\">\n",
       "  <thead>\n",
       "    <tr style=\"text-align: right;\">\n",
       "      <th></th>\n",
       "      <th>Economy (GDP per Capita)</th>\n",
       "      <th>Family</th>\n",
       "      <th>Health (Life Expectancy)</th>\n",
       "      <th>Freedom</th>\n",
       "      <th>Trust (Government Corruption)</th>\n",
       "      <th>Generosity</th>\n",
       "    </tr>\n",
       "    <tr>\n",
       "      <th>Region</th>\n",
       "      <th></th>\n",
       "      <th></th>\n",
       "      <th></th>\n",
       "      <th></th>\n",
       "      <th></th>\n",
       "      <th></th>\n",
       "    </tr>\n",
       "  </thead>\n",
       "  <tbody>\n",
       "    <tr>\n",
       "      <th>Australia and New Zealand</th>\n",
       "      <td>1.356197</td>\n",
       "      <td>1.424368</td>\n",
       "      <td>0.903074</td>\n",
       "      <td>0.611413</td>\n",
       "      <td>0.357294</td>\n",
       "      <td>0.424441</td>\n",
       "    </tr>\n",
       "    <tr>\n",
       "      <th>Central and Eastern Europe</th>\n",
       "      <td>1.018734</td>\n",
       "      <td>1.171523</td>\n",
       "      <td>0.695550</td>\n",
       "      <td>0.352283</td>\n",
       "      <td>0.075969</td>\n",
       "      <td>0.156806</td>\n",
       "    </tr>\n",
       "    <tr>\n",
       "      <th>Eastern Asia</th>\n",
       "      <td>1.219484</td>\n",
       "      <td>1.190343</td>\n",
       "      <td>0.862189</td>\n",
       "      <td>0.417611</td>\n",
       "      <td>0.113642</td>\n",
       "      <td>0.191472</td>\n",
       "    </tr>\n",
       "    <tr>\n",
       "      <th>Latin America and Caribbean</th>\n",
       "      <td>0.936425</td>\n",
       "      <td>1.181575</td>\n",
       "      <td>0.676763</td>\n",
       "      <td>0.463089</td>\n",
       "      <td>0.093807</td>\n",
       "      <td>0.185513</td>\n",
       "    </tr>\n",
       "    <tr>\n",
       "      <th>Middle East and Northern Africa</th>\n",
       "      <td>1.102633</td>\n",
       "      <td>0.993466</td>\n",
       "      <td>0.665565</td>\n",
       "      <td>0.348679</td>\n",
       "      <td>0.146543</td>\n",
       "      <td>0.178271</td>\n",
       "    </tr>\n",
       "    <tr>\n",
       "      <th>North America</th>\n",
       "      <td>1.422037</td>\n",
       "      <td>1.357991</td>\n",
       "      <td>0.861086</td>\n",
       "      <td>0.558918</td>\n",
       "      <td>0.223345</td>\n",
       "      <td>0.372339</td>\n",
       "    </tr>\n",
       "    <tr>\n",
       "      <th>Southeastern Asia</th>\n",
       "      <td>0.893340</td>\n",
       "      <td>1.093673</td>\n",
       "      <td>0.635452</td>\n",
       "      <td>0.543723</td>\n",
       "      <td>0.136140</td>\n",
       "      <td>0.384195</td>\n",
       "    </tr>\n",
       "    <tr>\n",
       "      <th>Southern Asia</th>\n",
       "      <td>0.638813</td>\n",
       "      <td>0.803835</td>\n",
       "      <td>0.513089</td>\n",
       "      <td>0.392867</td>\n",
       "      <td>0.100357</td>\n",
       "      <td>0.300888</td>\n",
       "    </tr>\n",
       "    <tr>\n",
       "      <th>Sub-Saharan Africa</th>\n",
       "      <td>0.476584</td>\n",
       "      <td>0.862702</td>\n",
       "      <td>0.302677</td>\n",
       "      <td>0.357076</td>\n",
       "      <td>0.105989</td>\n",
       "      <td>0.208039</td>\n",
       "    </tr>\n",
       "    <tr>\n",
       "      <th>Western Europe</th>\n",
       "      <td>1.372702</td>\n",
       "      <td>1.338851</td>\n",
       "      <td>0.892661</td>\n",
       "      <td>0.516868</td>\n",
       "      <td>0.223788</td>\n",
       "      <td>0.271988</td>\n",
       "    </tr>\n",
       "  </tbody>\n",
       "</table>\n",
       "</div>"
      ],
      "text/plain": [
       "                                 Economy (GDP per Capita)    Family  \\\n",
       "Region                                                                \n",
       "Australia and New Zealand                        1.356197  1.424368   \n",
       "Central and Eastern Europe                       1.018734  1.171523   \n",
       "Eastern Asia                                     1.219484  1.190343   \n",
       "Latin America and Caribbean                      0.936425  1.181575   \n",
       "Middle East and Northern Africa                  1.102633  0.993466   \n",
       "North America                                    1.422037  1.357991   \n",
       "Southeastern Asia                                0.893340  1.093673   \n",
       "Southern Asia                                    0.638813  0.803835   \n",
       "Sub-Saharan Africa                               0.476584  0.862702   \n",
       "Western Europe                                   1.372702  1.338851   \n",
       "\n",
       "                                 Health (Life Expectancy)   Freedom  \\\n",
       "Region                                                                \n",
       "Australia and New Zealand                        0.903074  0.611413   \n",
       "Central and Eastern Europe                       0.695550  0.352283   \n",
       "Eastern Asia                                     0.862189  0.417611   \n",
       "Latin America and Caribbean                      0.676763  0.463089   \n",
       "Middle East and Northern Africa                  0.665565  0.348679   \n",
       "North America                                    0.861086  0.558918   \n",
       "Southeastern Asia                                0.635452  0.543723   \n",
       "Southern Asia                                    0.513089  0.392867   \n",
       "Sub-Saharan Africa                               0.302677  0.357076   \n",
       "Western Europe                                   0.892661  0.516868   \n",
       "\n",
       "                                 Trust (Government Corruption)  Generosity  \n",
       "Region                                                                      \n",
       "Australia and New Zealand                             0.357294    0.424441  \n",
       "Central and Eastern Europe                            0.075969    0.156806  \n",
       "Eastern Asia                                          0.113642    0.191472  \n",
       "Latin America and Caribbean                           0.093807    0.185513  \n",
       "Middle East and Northern Africa                       0.146543    0.178271  \n",
       "North America                                         0.223345    0.372339  \n",
       "Southeastern Asia                                     0.136140    0.384195  \n",
       "Southern Asia                                         0.100357    0.300888  \n",
       "Sub-Saharan Africa                                    0.105989    0.208039  \n",
       "Western Europe                                        0.223788    0.271988  "
      ]
     },
     "execution_count": 274,
     "metadata": {},
     "output_type": "execute_result"
    }
   ],
   "source": [
    "# Determine the mean for the happiness factors\n",
    "factors = ['Economy (GDP per Capita)', 'Family', 'Health (Life Expectancy)', 'Freedom', 'Trust (Government Corruption)', 'Generosity']\n",
    "factors_mean = happy_reports_df.groupby('Region')[factors].mean()\n",
    "factors_mean"
   ]
  },
  {
   "cell_type": "code",
   "execution_count": 275,
   "id": "07f2d8d5-a609-4110-a366-5ddbab545750",
   "metadata": {},
   "outputs": [],
   "source": [
    "# Determine happiness score in each region and analyze data to determine happiness factor(s) for happiness\n",
    "# Create scatter plots"
   ]
  },
  {
   "cell_type": "code",
   "execution_count": null,
   "id": "e89d4579-d84b-461c-8365-91e975487797",
   "metadata": {},
   "outputs": [],
   "source": []
  }
 ],
 "metadata": {
  "kernelspec": {
   "display_name": "Python 3",
   "language": "python",
   "name": "python3"
  },
  "language_info": {
   "codemirror_mode": {
    "name": "ipython",
    "version": 3
   },
   "file_extension": ".py",
   "mimetype": "text/x-python",
   "name": "python",
   "nbconvert_exporter": "python",
   "pygments_lexer": "ipython3",
   "version": "3.8.8"
  }
 },
 "nbformat": 4,
 "nbformat_minor": 5
}
